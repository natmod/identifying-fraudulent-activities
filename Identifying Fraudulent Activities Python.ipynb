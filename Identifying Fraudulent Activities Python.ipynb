{
 "cells": [
  {
   "cell_type": "markdown",
   "metadata": {},
   "source": [
    "# Project Overview\n",
    "\n",
    "The goal of this project was to develop a fraud classifier for an e-commerce company that sells handmade clothes. The dataset consists of ~150k transactions. A table of contents is as follows:\n",
    "\n",
    "1. Data Processing: Detemining Country from IPAddress\n",
    "2. Feature Engineering / Preprocessing\n",
    "3. Machine Learning (Training)\n",
    "4. Gaining Insights from the ML Model\n",
    "5. Building a Product from the ML Model"
   ]
  },
  {
   "cell_type": "code",
   "execution_count": 1,
   "metadata": {
    "collapsed": true
   },
   "outputs": [],
   "source": [
    "import pandas as pd\n",
    "import numpy as np\n",
    "from matplotlib import pyplot as plt\n",
    "from sklearn.model_selection import train_test_split\n",
    "from sklearn.ensemble import RandomForestClassifier, GradientBoostingClassifier, partial_dependence\n",
    "from sklearn.metrics import roc_curve, auc\n",
    "from sklearn import tree\n",
    "import graphviz\n",
    "\n",
    "%matplotlib inline"
   ]
  },
  {
   "cell_type": "code",
   "execution_count": 2,
   "metadata": {
    "collapsed": true
   },
   "outputs": [],
   "source": [
    "users = pd.read_csv(\"Fraud_Data.csv\")\n",
    "ips = pd.read_csv(\"IpAddress_to_Country.csv\")"
   ]
  },
  {
   "cell_type": "code",
   "execution_count": 3,
   "metadata": {},
   "outputs": [
    {
     "data": {
      "text/html": [
       "<div>\n",
       "<style>\n",
       "    .dataframe thead tr:only-child th {\n",
       "        text-align: right;\n",
       "    }\n",
       "\n",
       "    .dataframe thead th {\n",
       "        text-align: left;\n",
       "    }\n",
       "\n",
       "    .dataframe tbody tr th {\n",
       "        vertical-align: top;\n",
       "    }\n",
       "</style>\n",
       "<table border=\"1\" class=\"dataframe\">\n",
       "  <thead>\n",
       "    <tr style=\"text-align: right;\">\n",
       "      <th></th>\n",
       "      <th>user_id</th>\n",
       "      <th>signup_time</th>\n",
       "      <th>purchase_time</th>\n",
       "      <th>purchase_value</th>\n",
       "      <th>device_id</th>\n",
       "      <th>source</th>\n",
       "      <th>browser</th>\n",
       "      <th>sex</th>\n",
       "      <th>age</th>\n",
       "      <th>ip_address</th>\n",
       "      <th>class</th>\n",
       "    </tr>\n",
       "  </thead>\n",
       "  <tbody>\n",
       "    <tr>\n",
       "      <th>0</th>\n",
       "      <td>22058</td>\n",
       "      <td>2015-02-24 22:55:49</td>\n",
       "      <td>2015-04-18 02:47:11</td>\n",
       "      <td>34</td>\n",
       "      <td>QVPSPJUOCKZAR</td>\n",
       "      <td>SEO</td>\n",
       "      <td>Chrome</td>\n",
       "      <td>M</td>\n",
       "      <td>39</td>\n",
       "      <td>7.327584e+08</td>\n",
       "      <td>0</td>\n",
       "    </tr>\n",
       "    <tr>\n",
       "      <th>1</th>\n",
       "      <td>333320</td>\n",
       "      <td>2015-06-07 20:39:50</td>\n",
       "      <td>2015-06-08 01:38:54</td>\n",
       "      <td>16</td>\n",
       "      <td>EOGFQPIZPYXFZ</td>\n",
       "      <td>Ads</td>\n",
       "      <td>Chrome</td>\n",
       "      <td>F</td>\n",
       "      <td>53</td>\n",
       "      <td>3.503114e+08</td>\n",
       "      <td>0</td>\n",
       "    </tr>\n",
       "    <tr>\n",
       "      <th>2</th>\n",
       "      <td>1359</td>\n",
       "      <td>2015-01-01 18:52:44</td>\n",
       "      <td>2015-01-01 18:52:45</td>\n",
       "      <td>15</td>\n",
       "      <td>YSSKYOSJHPPLJ</td>\n",
       "      <td>SEO</td>\n",
       "      <td>Opera</td>\n",
       "      <td>M</td>\n",
       "      <td>53</td>\n",
       "      <td>2.621474e+09</td>\n",
       "      <td>1</td>\n",
       "    </tr>\n",
       "    <tr>\n",
       "      <th>3</th>\n",
       "      <td>150084</td>\n",
       "      <td>2015-04-28 21:13:25</td>\n",
       "      <td>2015-05-04 13:54:50</td>\n",
       "      <td>44</td>\n",
       "      <td>ATGTXKYKUDUQN</td>\n",
       "      <td>SEO</td>\n",
       "      <td>Safari</td>\n",
       "      <td>M</td>\n",
       "      <td>41</td>\n",
       "      <td>3.840542e+09</td>\n",
       "      <td>0</td>\n",
       "    </tr>\n",
       "    <tr>\n",
       "      <th>4</th>\n",
       "      <td>221365</td>\n",
       "      <td>2015-07-21 07:09:52</td>\n",
       "      <td>2015-09-09 18:40:53</td>\n",
       "      <td>39</td>\n",
       "      <td>NAUITBZFJKHWW</td>\n",
       "      <td>Ads</td>\n",
       "      <td>Safari</td>\n",
       "      <td>M</td>\n",
       "      <td>45</td>\n",
       "      <td>4.155831e+08</td>\n",
       "      <td>0</td>\n",
       "    </tr>\n",
       "  </tbody>\n",
       "</table>\n",
       "</div>"
      ],
      "text/plain": [
       "   user_id          signup_time        purchase_time  purchase_value  \\\n",
       "0    22058  2015-02-24 22:55:49  2015-04-18 02:47:11              34   \n",
       "1   333320  2015-06-07 20:39:50  2015-06-08 01:38:54              16   \n",
       "2     1359  2015-01-01 18:52:44  2015-01-01 18:52:45              15   \n",
       "3   150084  2015-04-28 21:13:25  2015-05-04 13:54:50              44   \n",
       "4   221365  2015-07-21 07:09:52  2015-09-09 18:40:53              39   \n",
       "\n",
       "       device_id source browser sex  age    ip_address  class  \n",
       "0  QVPSPJUOCKZAR    SEO  Chrome   M   39  7.327584e+08      0  \n",
       "1  EOGFQPIZPYXFZ    Ads  Chrome   F   53  3.503114e+08      0  \n",
       "2  YSSKYOSJHPPLJ    SEO   Opera   M   53  2.621474e+09      1  \n",
       "3  ATGTXKYKUDUQN    SEO  Safari   M   41  3.840542e+09      0  \n",
       "4  NAUITBZFJKHWW    Ads  Safari   M   45  4.155831e+08      0  "
      ]
     },
     "execution_count": 3,
     "metadata": {},
     "output_type": "execute_result"
    }
   ],
   "source": [
    "users.head()"
   ]
  },
  {
   "cell_type": "code",
   "execution_count": 4,
   "metadata": {},
   "outputs": [
    {
     "data": {
      "text/plain": [
       "True"
      ]
     },
     "execution_count": 4,
     "metadata": {},
     "output_type": "execute_result"
    }
   ],
   "source": [
    "users.user_id.nunique() == len(users)"
   ]
  },
  {
   "cell_type": "code",
   "execution_count": 5,
   "metadata": {
    "scrolled": true
   },
   "outputs": [
    {
     "data": {
      "text/html": [
       "<div>\n",
       "<style>\n",
       "    .dataframe thead tr:only-child th {\n",
       "        text-align: right;\n",
       "    }\n",
       "\n",
       "    .dataframe thead th {\n",
       "        text-align: left;\n",
       "    }\n",
       "\n",
       "    .dataframe tbody tr th {\n",
       "        vertical-align: top;\n",
       "    }\n",
       "</style>\n",
       "<table border=\"1\" class=\"dataframe\">\n",
       "  <thead>\n",
       "    <tr style=\"text-align: right;\">\n",
       "      <th></th>\n",
       "      <th>lower_bound_ip_address</th>\n",
       "      <th>upper_bound_ip_address</th>\n",
       "      <th>country</th>\n",
       "    </tr>\n",
       "  </thead>\n",
       "  <tbody>\n",
       "    <tr>\n",
       "      <th>0</th>\n",
       "      <td>16777216.0</td>\n",
       "      <td>16777471</td>\n",
       "      <td>Australia</td>\n",
       "    </tr>\n",
       "    <tr>\n",
       "      <th>1</th>\n",
       "      <td>16777472.0</td>\n",
       "      <td>16777727</td>\n",
       "      <td>China</td>\n",
       "    </tr>\n",
       "    <tr>\n",
       "      <th>2</th>\n",
       "      <td>16777728.0</td>\n",
       "      <td>16778239</td>\n",
       "      <td>China</td>\n",
       "    </tr>\n",
       "    <tr>\n",
       "      <th>3</th>\n",
       "      <td>16778240.0</td>\n",
       "      <td>16779263</td>\n",
       "      <td>Australia</td>\n",
       "    </tr>\n",
       "    <tr>\n",
       "      <th>4</th>\n",
       "      <td>16779264.0</td>\n",
       "      <td>16781311</td>\n",
       "      <td>China</td>\n",
       "    </tr>\n",
       "  </tbody>\n",
       "</table>\n",
       "</div>"
      ],
      "text/plain": [
       "   lower_bound_ip_address  upper_bound_ip_address    country\n",
       "0              16777216.0                16777471  Australia\n",
       "1              16777472.0                16777727      China\n",
       "2              16777728.0                16778239      China\n",
       "3              16778240.0                16779263  Australia\n",
       "4              16779264.0                16781311      China"
      ]
     },
     "execution_count": 5,
     "metadata": {},
     "output_type": "execute_result"
    }
   ],
   "source": [
    "ips.head()"
   ]
  },
  {
   "cell_type": "markdown",
   "metadata": {},
   "source": [
    "## Data Processing: Determine Country Based on IP Address"
   ]
  },
  {
   "cell_type": "code",
   "execution_count": 6,
   "metadata": {},
   "outputs": [
    {
     "name": "stdout",
     "output_type": "stream",
     "text": [
      "0.0% complete\n",
      "1.0% complete\n",
      "2.0% complete\n",
      "3.0% complete\n",
      "4.0% complete\n",
      "5.0% complete\n",
      "6.0% complete\n",
      "7.0% complete\n",
      "8.0% complete\n",
      "9.0% complete\n",
      "10.0% complete\n",
      "11.0% complete\n",
      "12.0% complete\n",
      "13.0% complete\n",
      "14.0% complete\n",
      "15.0% complete\n",
      "16.0% complete\n",
      "17.0% complete\n",
      "18.0% complete\n",
      "19.0% complete\n",
      "20.0% complete\n",
      "21.0% complete\n",
      "22.0% complete\n",
      "23.0% complete\n",
      "24.0% complete\n",
      "25.0% complete\n",
      "26.0% complete\n",
      "27.0% complete\n",
      "28.0% complete\n",
      "29.0% complete\n",
      "30.0% complete\n",
      "31.0% complete\n",
      "32.0% complete\n",
      "33.0% complete\n",
      "34.0% complete\n",
      "35.0% complete\n",
      "36.0% complete\n",
      "37.0% complete\n",
      "38.0% complete\n",
      "39.0% complete\n",
      "40.0% complete\n",
      "41.0% complete\n",
      "42.0% complete\n",
      "43.0% complete\n",
      "44.0% complete\n",
      "45.0% complete\n",
      "46.0% complete\n",
      "47.0% complete\n",
      "48.0% complete\n",
      "49.0% complete\n",
      "50.0% complete\n",
      "51.0% complete\n",
      "52.0% complete\n",
      "53.0% complete\n",
      "54.0% complete\n",
      "55.0% complete\n",
      "56.0% complete\n",
      "57.0% complete\n",
      "58.0% complete\n",
      "59.0% complete\n",
      "60.0% complete\n",
      "61.0% complete\n",
      "62.0% complete\n",
      "63.0% complete\n",
      "64.0% complete\n",
      "65.0% complete\n",
      "66.0% complete\n",
      "67.0% complete\n",
      "68.0% complete\n",
      "69.0% complete\n",
      "70.0% complete\n",
      "71.0% complete\n",
      "72.0% complete\n",
      "73.0% complete\n",
      "74.0% complete\n",
      "75.0% complete\n",
      "76.0% complete\n",
      "77.0% complete\n",
      "78.0% complete\n",
      "79.0% complete\n",
      "80.0% complete\n",
      "81.0% complete\n",
      "82.0% complete\n",
      "83.0% complete\n",
      "84.0% complete\n",
      "85.0% complete\n",
      "86.0% complete\n",
      "87.0% complete\n",
      "88.0% complete\n",
      "89.0% complete\n",
      "90.0% complete\n",
      "91.0% complete\n",
      "92.0% complete\n",
      "93.0% complete\n",
      "94.0% complete\n",
      "95.0% complete\n",
      "96.0% complete\n",
      "97.0% complete\n",
      "98.0% complete\n",
      "99.0% complete\n",
      "100.0% complete\n"
     ]
    }
   ],
   "source": [
    "users['country'] = np.nan\n",
    "\n",
    "#caution: this code takes a long time (~10 min) to run\n",
    "for i in range(len(users)):\n",
    "    try:\n",
    "        #to get value: filter by upper and lower bound, then select just the value of the resultant Series.\n",
    "        users.loc[i, 'country'] = ips[(ips.lower_bound_ip_address <= users.loc[i, 'ip_address']) \\\n",
    "                              & (ips.upper_bound_ip_address >= users.loc[i, 'ip_address'])].country.values[0]\n",
    "    except:\n",
    "        #some ips are not within known country bounds. skipping over these will leave null value\n",
    "        pass\n",
    "    #because this code took about 10 min to run, I have it print status at roughly 1% completion intervals\n",
    "    if i % 1511 == 0:\n",
    "        print('{}% complete'.format(np.round(i/len(users)*100)))"
   ]
  },
  {
   "cell_type": "code",
   "execution_count": 7,
   "metadata": {},
   "outputs": [
    {
     "data": {
      "text/plain": [
       "country\n",
       "United States                           58049\n",
       "Unknown                                 21966\n",
       "China                                   12038\n",
       "Japan                                    7306\n",
       "United Kingdom                           4490\n",
       "Korea Republic of                        4162\n",
       "Germany                                  3646\n",
       "France                                   3161\n",
       "Canada                                   2975\n",
       "Brazil                                   2961\n",
       "Italy                                    1944\n",
       "Australia                                1844\n",
       "Netherlands                              1680\n",
       "Russian Federation                       1616\n",
       "India                                    1310\n",
       "Taiwan; Republic of China (ROC)          1237\n",
       "Mexico                                   1121\n",
       "Sweden                                   1090\n",
       "Spain                                    1027\n",
       "South Africa                              838\n",
       "Switzerland                               785\n",
       "Poland                                    729\n",
       "Argentina                                 661\n",
       "Indonesia                                 649\n",
       "Norway                                    609\n",
       "Colombia                                  602\n",
       "Turkey                                    568\n",
       "Viet Nam                                  550\n",
       "Romania                                   525\n",
       "Denmark                                   490\n",
       "                                        ...  \n",
       "Congo The Democratic Republic of The        3\n",
       "Congo                                       3\n",
       "Bhutan                                      2\n",
       "Fiji                                        2\n",
       "Saint Kitts and Nevis                       2\n",
       "Gibraltar                                   2\n",
       "Benin                                       2\n",
       "Bermuda                                     2\n",
       "Lesotho                                     2\n",
       "Burkina Faso                                2\n",
       "Liechtenstein                               2\n",
       "Maldives                                    2\n",
       "Saint Martin                                1\n",
       "Yemen                                       1\n",
       "Vanuatu                                     1\n",
       "Burundi                                     1\n",
       "Turkmenistan                                1\n",
       "Tajikistan                                  1\n",
       "South Sudan                                 1\n",
       "San Marino                                  1\n",
       "Myanmar                                     1\n",
       "Bonaire; Sint Eustatius; Saba               1\n",
       "Madagascar                                  1\n",
       "Gambia                                      1\n",
       "Niger                                       1\n",
       "British Indian Ocean Territory              1\n",
       "Cape Verde                                  1\n",
       "Guadeloupe                                  1\n",
       "Dominica                                    1\n",
       "Nauru                                       1\n",
       "Name: user_id, Length: 182, dtype: int64"
      ]
     },
     "execution_count": 7,
     "metadata": {},
     "output_type": "execute_result"
    }
   ],
   "source": [
    "#replace nulls w/ 'unknown' to be included in the count\n",
    "users.country.fillna('Unknown', inplace=True)\n",
    "users.groupby('country').user_id.count().sort_values(ascending=False)"
   ]
  },
  {
   "cell_type": "code",
   "execution_count": 8,
   "metadata": {},
   "outputs": [
    {
     "data": {
      "text/plain": [
       "<matplotlib.text.Annotation at 0x2a0f9b59128>"
      ]
     },
     "execution_count": 8,
     "metadata": {},
     "output_type": "execute_result"
    },
    {
     "data": {
      "image/png": "[encoded data removed]",
      "text/plain": [
       "<matplotlib.figure.Figure at 0x2a0f9b59080>"
      ]
     },
     "metadata": {},
     "output_type": "display_data"
    }
   ],
   "source": [
    "country_counts = users.groupby('country').user_id.count()\n",
    "ax = country_counts[country_counts <=1000].hist(cumulative=True,bins=100)\n",
    "ax.set_xlim(0, 1000)\n",
    "ax.annotate('elbow', xy=(100, 120), xytext=(10, 130))"
   ]
  },
  {
   "cell_type": "markdown",
   "metadata": {},
   "source": [
    "## Feature Engineering / Preprocessing"
   ]
  },
  {
   "cell_type": "code",
   "execution_count": 9,
   "metadata": {
    "scrolled": false
   },
   "outputs": [
    {
     "data": {
      "text/html": [
       "<div>\n",
       "<style>\n",
       "    .dataframe thead tr:only-child th {\n",
       "        text-align: right;\n",
       "    }\n",
       "\n",
       "    .dataframe thead th {\n",
       "        text-align: left;\n",
       "    }\n",
       "\n",
       "    .dataframe tbody tr th {\n",
       "        vertical-align: top;\n",
       "    }\n",
       "</style>\n",
       "<table border=\"1\" class=\"dataframe\">\n",
       "  <thead>\n",
       "    <tr style=\"text-align: right;\">\n",
       "      <th></th>\n",
       "      <th>user_id</th>\n",
       "      <th>signup_time</th>\n",
       "      <th>purchase_time</th>\n",
       "      <th>purchase_value</th>\n",
       "      <th>device_id</th>\n",
       "      <th>source</th>\n",
       "      <th>browser</th>\n",
       "      <th>sex</th>\n",
       "      <th>age</th>\n",
       "      <th>ip_address</th>\n",
       "      <th>class</th>\n",
       "      <th>country</th>\n",
       "    </tr>\n",
       "  </thead>\n",
       "  <tbody>\n",
       "    <tr>\n",
       "      <th>0</th>\n",
       "      <td>22058</td>\n",
       "      <td>2015-02-24 22:55:49</td>\n",
       "      <td>2015-04-18 02:47:11</td>\n",
       "      <td>34</td>\n",
       "      <td>QVPSPJUOCKZAR</td>\n",
       "      <td>SEO</td>\n",
       "      <td>Chrome</td>\n",
       "      <td>M</td>\n",
       "      <td>39</td>\n",
       "      <td>7.327584e+08</td>\n",
       "      <td>0</td>\n",
       "      <td>Japan</td>\n",
       "    </tr>\n",
       "    <tr>\n",
       "      <th>1</th>\n",
       "      <td>333320</td>\n",
       "      <td>2015-06-07 20:39:50</td>\n",
       "      <td>2015-06-08 01:38:54</td>\n",
       "      <td>16</td>\n",
       "      <td>EOGFQPIZPYXFZ</td>\n",
       "      <td>Ads</td>\n",
       "      <td>Chrome</td>\n",
       "      <td>F</td>\n",
       "      <td>53</td>\n",
       "      <td>3.503114e+08</td>\n",
       "      <td>0</td>\n",
       "      <td>United States</td>\n",
       "    </tr>\n",
       "    <tr>\n",
       "      <th>2</th>\n",
       "      <td>1359</td>\n",
       "      <td>2015-01-01 18:52:44</td>\n",
       "      <td>2015-01-01 18:52:45</td>\n",
       "      <td>15</td>\n",
       "      <td>YSSKYOSJHPPLJ</td>\n",
       "      <td>SEO</td>\n",
       "      <td>Opera</td>\n",
       "      <td>M</td>\n",
       "      <td>53</td>\n",
       "      <td>2.621474e+09</td>\n",
       "      <td>1</td>\n",
       "      <td>United States</td>\n",
       "    </tr>\n",
       "  </tbody>\n",
       "</table>\n",
       "</div>"
      ],
      "text/plain": [
       "   user_id          signup_time        purchase_time  purchase_value  \\\n",
       "0    22058  2015-02-24 22:55:49  2015-04-18 02:47:11              34   \n",
       "1   333320  2015-06-07 20:39:50  2015-06-08 01:38:54              16   \n",
       "2     1359  2015-01-01 18:52:44  2015-01-01 18:52:45              15   \n",
       "\n",
       "       device_id source browser sex  age    ip_address  class        country  \n",
       "0  QVPSPJUOCKZAR    SEO  Chrome   M   39  7.327584e+08      0          Japan  \n",
       "1  EOGFQPIZPYXFZ    Ads  Chrome   F   53  3.503114e+08      0  United States  \n",
       "2  YSSKYOSJHPPLJ    SEO   Opera   M   53  2.621474e+09      1  United States  "
      ]
     },
     "execution_count": 9,
     "metadata": {},
     "output_type": "execute_result"
    }
   ],
   "source": [
    "users.head(3)"
   ]
  },
  {
   "cell_type": "markdown",
   "metadata": {},
   "source": [
    "Feature to measure number of users in that country:"
   ]
  },
  {
   "cell_type": "code",
   "execution_count": 10,
   "metadata": {
    "collapsed": true
   },
   "outputs": [],
   "source": [
    "users['country_users'] = users.groupby('country').user_id.transform('nunique')"
   ]
  },
  {
   "cell_type": "markdown",
   "metadata": {},
   "source": [
    "Features to measure 1) number of (unique) users per a certain device id and 2) number of (unique) users per ip_address:"
   ]
  },
  {
   "cell_type": "code",
   "execution_count": 11,
   "metadata": {
    "collapsed": true
   },
   "outputs": [],
   "source": [
    "users['device_users'] = users.groupby('device_id').user_id.transform('nunique')\n",
    "users['ip_users'] = users.groupby('ip_address').user_id.transform('nunique')"
   ]
  },
  {
   "cell_type": "markdown",
   "metadata": {},
   "source": [
    "Feature to measure time between signup and first purchase:"
   ]
  },
  {
   "cell_type": "code",
   "execution_count": 12,
   "metadata": {
    "collapsed": true,
    "scrolled": true
   },
   "outputs": [],
   "source": [
    "users['signup_time'] = pd.to_datetime(users['signup_time'])\n",
    "users['purchase_time'] = pd.to_datetime(users['purchase_time'])\n",
    "users['time_delta_s'] = (users['purchase_time'] - users['signup_time']).dt.total_seconds()"
   ]
  },
  {
   "cell_type": "code",
   "execution_count": 13,
   "metadata": {},
   "outputs": [
    {
     "data": {
      "text/plain": [
       "7600"
      ]
     },
     "execution_count": 13,
     "metadata": {},
     "output_type": "execute_result"
    }
   ],
   "source": [
    "#users that bought something within 5 seconds of signing up!\n",
    "tds = users.time_delta_s\n",
    "tds[tds <= 5].count()"
   ]
  },
  {
   "cell_type": "markdown",
   "metadata": {},
   "source": [
    "A few last features to check for seasonality"
   ]
  },
  {
   "cell_type": "code",
   "execution_count": 14,
   "metadata": {
    "scrolled": false
   },
   "outputs": [
    {
     "data": {
      "text/html": [
       "<div>\n",
       "<style>\n",
       "    .dataframe thead tr:only-child th {\n",
       "        text-align: right;\n",
       "    }\n",
       "\n",
       "    .dataframe thead th {\n",
       "        text-align: left;\n",
       "    }\n",
       "\n",
       "    .dataframe tbody tr th {\n",
       "        vertical-align: top;\n",
       "    }\n",
       "</style>\n",
       "<table border=\"1\" class=\"dataframe\">\n",
       "  <thead>\n",
       "    <tr style=\"text-align: right;\">\n",
       "      <th></th>\n",
       "      <th>user_id</th>\n",
       "      <th>signup_time</th>\n",
       "      <th>purchase_time</th>\n",
       "      <th>purchase_value</th>\n",
       "      <th>device_id</th>\n",
       "      <th>source</th>\n",
       "      <th>browser</th>\n",
       "      <th>sex</th>\n",
       "      <th>age</th>\n",
       "      <th>ip_address</th>\n",
       "      <th>class</th>\n",
       "      <th>country</th>\n",
       "      <th>country_users</th>\n",
       "      <th>device_users</th>\n",
       "      <th>ip_users</th>\n",
       "      <th>time_delta_s</th>\n",
       "      <th>signup_DOW</th>\n",
       "      <th>signup_week</th>\n",
       "      <th>purchase_DOW</th>\n",
       "      <th>purchase_week</th>\n",
       "    </tr>\n",
       "  </thead>\n",
       "  <tbody>\n",
       "    <tr>\n",
       "      <th>0</th>\n",
       "      <td>22058</td>\n",
       "      <td>2015-02-24 22:55:49</td>\n",
       "      <td>2015-04-18 02:47:11</td>\n",
       "      <td>34</td>\n",
       "      <td>QVPSPJUOCKZAR</td>\n",
       "      <td>SEO</td>\n",
       "      <td>Chrome</td>\n",
       "      <td>M</td>\n",
       "      <td>39</td>\n",
       "      <td>7.327584e+08</td>\n",
       "      <td>0</td>\n",
       "      <td>Japan</td>\n",
       "      <td>7306</td>\n",
       "      <td>1</td>\n",
       "      <td>1</td>\n",
       "      <td>4506682.0</td>\n",
       "      <td>1</td>\n",
       "      <td>9</td>\n",
       "      <td>5</td>\n",
       "      <td>16</td>\n",
       "    </tr>\n",
       "    <tr>\n",
       "      <th>1</th>\n",
       "      <td>333320</td>\n",
       "      <td>2015-06-07 20:39:50</td>\n",
       "      <td>2015-06-08 01:38:54</td>\n",
       "      <td>16</td>\n",
       "      <td>EOGFQPIZPYXFZ</td>\n",
       "      <td>Ads</td>\n",
       "      <td>Chrome</td>\n",
       "      <td>F</td>\n",
       "      <td>53</td>\n",
       "      <td>3.503114e+08</td>\n",
       "      <td>0</td>\n",
       "      <td>United States</td>\n",
       "      <td>58049</td>\n",
       "      <td>1</td>\n",
       "      <td>1</td>\n",
       "      <td>17944.0</td>\n",
       "      <td>6</td>\n",
       "      <td>23</td>\n",
       "      <td>0</td>\n",
       "      <td>24</td>\n",
       "    </tr>\n",
       "    <tr>\n",
       "      <th>2</th>\n",
       "      <td>1359</td>\n",
       "      <td>2015-01-01 18:52:44</td>\n",
       "      <td>2015-01-01 18:52:45</td>\n",
       "      <td>15</td>\n",
       "      <td>YSSKYOSJHPPLJ</td>\n",
       "      <td>SEO</td>\n",
       "      <td>Opera</td>\n",
       "      <td>M</td>\n",
       "      <td>53</td>\n",
       "      <td>2.621474e+09</td>\n",
       "      <td>1</td>\n",
       "      <td>United States</td>\n",
       "      <td>58049</td>\n",
       "      <td>12</td>\n",
       "      <td>12</td>\n",
       "      <td>1.0</td>\n",
       "      <td>3</td>\n",
       "      <td>1</td>\n",
       "      <td>3</td>\n",
       "      <td>1</td>\n",
       "    </tr>\n",
       "  </tbody>\n",
       "</table>\n",
       "</div>"
      ],
      "text/plain": [
       "   user_id         signup_time       purchase_time  purchase_value  \\\n",
       "0    22058 2015-02-24 22:55:49 2015-04-18 02:47:11              34   \n",
       "1   333320 2015-06-07 20:39:50 2015-06-08 01:38:54              16   \n",
       "2     1359 2015-01-01 18:52:44 2015-01-01 18:52:45              15   \n",
       "\n",
       "       device_id source browser sex  age    ip_address  class        country  \\\n",
       "0  QVPSPJUOCKZAR    SEO  Chrome   M   39  7.327584e+08      0          Japan   \n",
       "1  EOGFQPIZPYXFZ    Ads  Chrome   F   53  3.503114e+08      0  United States   \n",
       "2  YSSKYOSJHPPLJ    SEO   Opera   M   53  2.621474e+09      1  United States   \n",
       "\n",
       "   country_users  device_users  ip_users  time_delta_s  signup_DOW  \\\n",
       "0           7306             1         1     4506682.0           1   \n",
       "1          58049             1         1       17944.0           6   \n",
       "2          58049            12        12           1.0           3   \n",
       "\n",
       "   signup_week  purchase_DOW  purchase_week  \n",
       "0            9             5             16  \n",
       "1           23             0             24  \n",
       "2            1             3              1  "
      ]
     },
     "execution_count": 14,
     "metadata": {},
     "output_type": "execute_result"
    }
   ],
   "source": [
    "users['signup_DOW'] = users['signup_time'].dt.dayofweek\n",
    "users['signup_week'] = users['signup_time'].dt.week\n",
    "\n",
    "users['purchase_DOW'] = users['purchase_time'].dt.dayofweek\n",
    "users['purchase_week'] = users['purchase_time'].dt.week\n",
    "\n",
    "users.head(3)"
   ]
  },
  {
   "cell_type": "markdown",
   "metadata": {},
   "source": [
    "Create ML datasets:"
   ]
  },
  {
   "cell_type": "code",
   "execution_count": 15,
   "metadata": {
    "collapsed": true
   },
   "outputs": [],
   "source": [
    "users.rename(columns={'class': 'is_fraud'}, inplace=True)"
   ]
  },
  {
   "cell_type": "code",
   "execution_count": 16,
   "metadata": {
    "collapsed": true
   },
   "outputs": [],
   "source": [
    "X = users.drop(['user_id', 'signup_time', 'purchase_time', 'device_id', 'ip_address', 'is_fraud', 'country'], axis=1)\n",
    "X = pd.get_dummies(X, columns=['source', 'browser', 'sex'])\n",
    "X = X.drop('sex_F', axis=1)\n",
    "y = users.is_fraud\n",
    "\n",
    "Xtrain, Xtest, ytrain, ytest = train_test_split(X, y, test_size=0.3)"
   ]
  },
  {
   "cell_type": "markdown",
   "metadata": {},
   "source": [
    "## Machine Learning"
   ]
  },
  {
   "cell_type": "markdown",
   "metadata": {},
   "source": [
    "Fit a Random Forest classifer.  I chose random forest because it is fairly quick to optimize and insensitive to outliers and irrelevant variables. "
   ]
  },
  {
   "cell_type": "code",
   "execution_count": 17,
   "metadata": {},
   "outputs": [
    {
     "data": {
      "text/plain": [
       "RandomForestClassifier(bootstrap=True, class_weight=None, criterion='gini',\n",
       "            max_depth=None, max_features='auto', max_leaf_nodes=None,\n",
       "            min_impurity_decrease=0.0, min_impurity_split=None,\n",
       "            min_samples_leaf=0.001, min_samples_split=2,\n",
       "            min_weight_fraction_leaf=0.0, n_estimators=50, n_jobs=1,\n",
       "            oob_score=False, random_state=None, verbose=0,\n",
       "            warm_start=False)"
      ]
     },
     "execution_count": 17,
     "metadata": {},
     "output_type": "execute_result"
    }
   ],
   "source": [
    "rf = RandomForestClassifier(n_estimators=50, min_samples_leaf=.001)\n",
    "rf.fit(Xtrain, ytrain)"
   ]
  },
  {
   "cell_type": "code",
   "execution_count": 18,
   "metadata": {},
   "outputs": [
    {
     "data": {
      "text/plain": [
       "0.95645597383198777"
      ]
     },
     "execution_count": 18,
     "metadata": {},
     "output_type": "execute_result"
    }
   ],
   "source": [
    "rf.score(Xtrain, ytrain)"
   ]
  },
  {
   "cell_type": "code",
   "execution_count": 19,
   "metadata": {
    "scrolled": true
   },
   "outputs": [
    {
     "data": {
      "text/plain": [
       "0.95672122468787224"
      ]
     },
     "execution_count": 19,
     "metadata": {},
     "output_type": "execute_result"
    }
   ],
   "source": [
    "rf.score(Xtest, ytest)"
   ]
  },
  {
   "cell_type": "markdown",
   "metadata": {},
   "source": [
    "Note: For the sake of simplicity of this project, I am not **optimizing hyperparameters** of the random forest. If my goal was to get the absolute best performance out of the model, I would do a full cross-validated grid search to optimize. The hyperparameters that I would include in the grid search are:\n",
    "* max depth of tree\n",
    "* max features to consider at each split\n",
    "* minimum number of sample required to be at a leaf node\n",
    "* criterion (cost function, ie. entropy vs gini)\n",
    "* number of trees (estimators) in forest"
   ]
  },
  {
   "cell_type": "code",
   "execution_count": 20,
   "metadata": {
    "scrolled": true
   },
   "outputs": [
    {
     "data": {
      "text/plain": [
       "0.9064266671708673"
      ]
     },
     "execution_count": 20,
     "metadata": {},
     "output_type": "execute_result"
    }
   ],
   "source": [
    "1 - ytrain.mean()"
   ]
  },
  {
   "cell_type": "markdown",
   "metadata": {},
   "source": [
    "Even when comparing score to guessing everything as \"not fraud\", the random forest classifier is a ~5% improvement (looking at test set score). However, this brings up the point that acccuracy can be misleading -- classifying everything as not fraud could yield high accuracy, but offer no help in solving the business problem."
   ]
  },
  {
   "cell_type": "markdown",
   "metadata": {},
   "source": [
    "This leads us to the ROC Curve, where we can see how cutoff values will impact false positives and false negatives (as well as tp and tn)."
   ]
  },
  {
   "cell_type": "code",
   "execution_count": 21,
   "metadata": {
    "collapsed": true
   },
   "outputs": [],
   "source": [
    "y_score = rf.predict_proba(Xtest)[:,-1]\n",
    "y_true = ytest\n",
    "fpr, tpr, thresholds = roc_curve(y_true, y_score, pos_label=1)\n",
    "roc_auc = auc(fpr, tpr)"
   ]
  },
  {
   "cell_type": "code",
   "execution_count": 22,
   "metadata": {},
   "outputs": [
    {
     "data": {
      "image/png": "[encoded data removed]",
      "text/plain": [
       "<matplotlib.figure.Figure at 0x2a0f78dfb38>"
      ]
     },
     "metadata": {},
     "output_type": "display_data"
    }
   ],
   "source": [
    "plt.figure()\n",
    "lw=2\n",
    "plt.plot(fpr, tpr, color='darkorange',\n",
    "         lw=lw, label='ROC curve (area = %0.2f)' % roc_auc)\n",
    "plt.plot([0,1], [0,1], color='navy', lw=lw, linestyle='--')\n",
    "plt.xlim([-0.05, 1.0])\n",
    "plt.ylim([0.0, 1.05])\n",
    "plt.xlabel('FPR')\n",
    "plt.ylabel('TPR')\n",
    "plt.title('ROC Curve of Random Forest Fraud Classifier')\n",
    "plt.legend(loc='lower right')\n",
    "plt.show()"
   ]
  },
  {
   "cell_type": "markdown",
   "metadata": {},
   "source": [
    "With no knowledge of the cost of false positives or false negatives the optimal points would be:\n",
    "* For minimizing false positive rate - Pick the cut-off that corresponds to the point in the elbow region where FPR = 0, TPR = ~0.55\n",
    "* For maximizing true positive rate - decrease cut-off and choose a point along the line from ~(0.1,0.7) to (1,1)"
   ]
  },
  {
   "cell_type": "markdown",
   "metadata": {},
   "source": [
    "In this case, we don't explicitly know the cost of false positives or false negatives, but we can make some reasonable assumptions. In our example:\n",
    "* False positive means a customer is incorrectly flagged as a fraudulent user. This might not be so bad as long the classifier just triggers an additional verification step for users marked as positive by the model.\n",
    "* False negative means a someone committing fraud will go undetected by the classifier. This is most likely a more serious error for the classifier to make\n",
    "\n",
    "* Given that false negatives are assumed to be much more costly, we should pick a point towards the upper right part of the ROC curve. More false alarms will be triggered, but virtually all fraudulent transactions will be caught."
   ]
  },
  {
   "cell_type": "markdown",
   "metadata": {},
   "source": [
    "## Gaining Insights from the ML Model"
   ]
  },
  {
   "cell_type": "markdown",
   "metadata": {},
   "source": [
    "First, I'll plot feature importance from Random Forest model"
   ]
  },
  {
   "cell_type": "code",
   "execution_count": 23,
   "metadata": {},
   "outputs": [
    {
     "data": {
      "image/png": "[encoded data removed]",
      "text/plain": [
       "<matplotlib.figure.Figure at 0x2a0f26a1550>"
      ]
     },
     "metadata": {},
     "output_type": "display_data"
    }
   ],
   "source": [
    "importances = rf.feature_importances_\n",
    "features = X.columns\n",
    "indices = np.argsort(importances)\n",
    "\n",
    "plt.title('Feature Importances')\n",
    "plt.barh(range(len(indices)), importances[indices], color='b', align='center')\n",
    "plt.yticks(range(len(indices)), features[indices])\n",
    "plt.xlabel('Relative Importance')\n",
    "plt.show()"
   ]
  },
  {
   "cell_type": "markdown",
   "metadata": {},
   "source": [
    "From the feature importances above, we can take the top 5 and plot partial dependence plots. At the moment in Python, this needs to be done with a gradient boosting model. That's ok, I'll just fit a gradient boosting classifier quickly before creating the PDP's."
   ]
  },
  {
   "cell_type": "code",
   "execution_count": 24,
   "metadata": {},
   "outputs": [
    {
     "data": {
      "image/png": "[encoded data removed]",
      "text/plain": [
       "<matplotlib.figure.Figure at 0x2a0f6869630>"
      ]
     },
     "metadata": {},
     "output_type": "display_data"
    }
   ],
   "source": [
    "gb = GradientBoostingClassifier(n_estimators=10).fit(X,y)\n",
    "\n",
    "indices_desc = indices[::-1]\n",
    "features = indices_desc[:5]\n",
    "feature_names = X.columns[features]\n",
    "\n",
    "fig, axs = partial_dependence.plot_partial_dependence(gb, X, features,\n",
    "                                                     feature_names=X.columns,\n",
    "                                                     n_jobs=3, grid_resolution=50)\n",
    "fig.suptitle('Partial Depedence Plots of Fraud Detection Model')\n",
    "#adjust xlim to see the trend more clearly\n",
    "axs[0].set_xlim(0,5e5)\n",
    "plt.subplots_adjust(top=0.9)"
   ]
  },
  {
   "cell_type": "markdown",
   "metadata": {},
   "source": [
    "The partial dependence plots show strong trends for time delta between signing up and purchasing, as well as # of devices per user. The two takeaways are:\n",
    "* A small time delta between signup and transaction is a really strong indicator of fraud\n",
    "* A device used by multiple users is also a strong indicator of fraud"
   ]
  },
  {
   "cell_type": "markdown",
   "metadata": {},
   "source": [
    "Lastly, I'll fit a simple decision tree to observe splits and visualize importance of features"
   ]
  },
  {
   "cell_type": "code",
   "execution_count": 25,
   "metadata": {},
   "outputs": [
    {
     "data": {
      "image/svg+xml": [
       "<?xml version=\"1.0\" encoding=\"UTF-8\" standalone=\"no\"?>\r\n",
       "<!DOCTYPE svg PUBLIC \"-//W3C//DTD SVG 1.1//EN\"\r\n",
       " \"http://www.w3.org/Graphics/SVG/1.1/DTD/svg11.dtd\">\r\n",
       "<!-- Generated by graphviz version 2.38.0 (20140413.2041)\r\n",
       " -->\r\n",
       "<!-- Title: Tree Pages: 1 -->\r\n",
       "<svg width=\"721pt\" height=\"441pt\"\r\n",
       " viewBox=\"0.00 0.00 720.50 440.50\" xmlns=\"http://www.w3.org/2000/svg\" xmlns:xlink=\"http://www.w3.org/1999/xlink\">\r\n",
       "<g id=\"graph0\" class=\"graph\" transform=\"scale(1 1) rotate(0) translate(4 436.5)\">\r\n",
       "<title>Tree</title>\r\n",
       "<polygon fill=\"white\" stroke=\"none\" points=\"-4,4 -4,-436.5 716.5,-436.5 716.5,4 -4,4\"/>\r\n",
       "<!-- 0 -->\r\n",
       "<g id=\"node1\" class=\"node\"><title>0</title>\r\n",
       "<polygon fill=\"#e58139\" fill-opacity=\"0.898039\" stroke=\"black\" points=\"193.5,-432.5 54.5,-432.5 54.5,-349.5 193.5,-349.5 193.5,-432.5\"/>\r\n",
       "<text text-anchor=\"middle\" x=\"124\" y=\"-417.3\" font-family=\"Times New Roman,serif\" font-size=\"14.00\">time_delta_s &lt;= 69.0</text>\r\n",
       "<text text-anchor=\"middle\" x=\"124\" y=\"-402.3\" font-family=\"Times New Roman,serif\" font-size=\"14.00\">gini = 0.17</text>\r\n",
       "<text text-anchor=\"middle\" x=\"124\" y=\"-387.3\" font-family=\"Times New Roman,serif\" font-size=\"14.00\">samples = 100.0%</text>\r\n",
       "<text text-anchor=\"middle\" x=\"124\" y=\"-372.3\" font-family=\"Times New Roman,serif\" font-size=\"14.00\">value = [0.906, 0.094]</text>\r\n",
       "<text text-anchor=\"middle\" x=\"124\" y=\"-357.3\" font-family=\"Times New Roman,serif\" font-size=\"14.00\">class = not&#45;fraud</text>\r\n",
       "</g>\r\n",
       "<!-- 1 -->\r\n",
       "<g id=\"node2\" class=\"node\"><title>1</title>\r\n",
       "<polygon fill=\"#399de5\" stroke=\"black\" points=\"112,-68 7.10543e-015,-68 7.10543e-015,-0 112,-0 112,-68\"/>\r\n",
       "<text text-anchor=\"middle\" x=\"56\" y=\"-52.8\" font-family=\"Times New Roman,serif\" font-size=\"14.00\">gini = 0.0</text>\r\n",
       "<text text-anchor=\"middle\" x=\"56\" y=\"-37.8\" font-family=\"Times New Roman,serif\" font-size=\"14.00\">samples = 5.0%</text>\r\n",
       "<text text-anchor=\"middle\" x=\"56\" y=\"-22.8\" font-family=\"Times New Roman,serif\" font-size=\"14.00\">value = [0.0, 1.0]</text>\r\n",
       "<text text-anchor=\"middle\" x=\"56\" y=\"-7.8\" font-family=\"Times New Roman,serif\" font-size=\"14.00\">class = fraud</text>\r\n",
       "</g>\r\n",
       "<!-- 0&#45;&gt;1 -->\r\n",
       "<g id=\"edge1\" class=\"edge\"><title>0&#45;&gt;1</title>\r\n",
       "<path fill=\"none\" stroke=\"black\" d=\"M116.2,-349.277C103.275,-281.804 77.5348,-147.424 64.2928,-78.2935\"/>\r\n",
       "<polygon fill=\"black\" stroke=\"black\" points=\"67.6746,-77.3437 62.3557,-68.1807 60.7996,-78.6606 67.6746,-77.3437\"/>\r\n",
       "<text text-anchor=\"middle\" x=\"48.3194\" y=\"-85.1684\" font-family=\"Times New Roman,serif\" font-size=\"14.00\">True</text>\r\n",
       "</g>\r\n",
       "<!-- 2 -->\r\n",
       "<g id=\"node3\" class=\"node\"><title>2</title>\r\n",
       "<polygon fill=\"#e58139\" fill-opacity=\"0.952941\" stroke=\"black\" points=\"326.5,-313.5 187.5,-313.5 187.5,-230.5 326.5,-230.5 326.5,-313.5\"/>\r\n",
       "<text text-anchor=\"middle\" x=\"257\" y=\"-298.3\" font-family=\"Times New Roman,serif\" font-size=\"14.00\">device_users &lt;= 1.5</text>\r\n",
       "<text text-anchor=\"middle\" x=\"257\" y=\"-283.3\" font-family=\"Times New Roman,serif\" font-size=\"14.00\">gini = 0.087</text>\r\n",
       "<text text-anchor=\"middle\" x=\"257\" y=\"-268.3\" font-family=\"Times New Roman,serif\" font-size=\"14.00\">samples = 95.0%</text>\r\n",
       "<text text-anchor=\"middle\" x=\"257\" y=\"-253.3\" font-family=\"Times New Roman,serif\" font-size=\"14.00\">value = [0.954, 0.046]</text>\r\n",
       "<text text-anchor=\"middle\" x=\"257\" y=\"-238.3\" font-family=\"Times New Roman,serif\" font-size=\"14.00\">class = not&#45;fraud</text>\r\n",
       "</g>\r\n",
       "<!-- 0&#45;&gt;2 -->\r\n",
       "<g id=\"edge2\" class=\"edge\"><title>0&#45;&gt;2</title>\r\n",
       "<path fill=\"none\" stroke=\"black\" d=\"M170.144,-349.407C180.872,-339.969 192.384,-329.843 203.403,-320.149\"/>\r\n",
       "<polygon fill=\"black\" stroke=\"black\" points=\"205.741,-322.754 210.938,-313.521 201.118,-317.498 205.741,-322.754\"/>\r\n",
       "<text text-anchor=\"middle\" x=\"209.341\" y=\"-334.77\" font-family=\"Times New Roman,serif\" font-size=\"14.00\">False</text>\r\n",
       "</g>\r\n",
       "<!-- 3 -->\r\n",
       "<g id=\"node4\" class=\"node\"><title>3</title>\r\n",
       "<polygon fill=\"#e58139\" fill-opacity=\"0.968627\" stroke=\"black\" points=\"341.5,-194.5 172.5,-194.5 172.5,-111.5 341.5,-111.5 341.5,-194.5\"/>\r\n",
       "<text text-anchor=\"middle\" x=\"257\" y=\"-179.3\" font-family=\"Times New Roman,serif\" font-size=\"14.00\">time_delta_s &lt;= 8770937.0</text>\r\n",
       "<text text-anchor=\"middle\" x=\"257\" y=\"-164.3\" font-family=\"Times New Roman,serif\" font-size=\"14.00\">gini = 0.059</text>\r\n",
       "<text text-anchor=\"middle\" x=\"257\" y=\"-149.3\" font-family=\"Times New Roman,serif\" font-size=\"14.00\">samples = 87.2%</text>\r\n",
       "<text text-anchor=\"middle\" x=\"257\" y=\"-134.3\" font-family=\"Times New Roman,serif\" font-size=\"14.00\">value = [0.97, 0.03]</text>\r\n",
       "<text text-anchor=\"middle\" x=\"257\" y=\"-119.3\" font-family=\"Times New Roman,serif\" font-size=\"14.00\">class = not&#45;fraud</text>\r\n",
       "</g>\r\n",
       "<!-- 2&#45;&gt;3 -->\r\n",
       "<g id=\"edge3\" class=\"edge\"><title>2&#45;&gt;3</title>\r\n",
       "<path fill=\"none\" stroke=\"black\" d=\"M257,-230.407C257,-222.149 257,-213.364 257,-204.802\"/>\r\n",
       "<polygon fill=\"black\" stroke=\"black\" points=\"260.5,-204.521 257,-194.521 253.5,-204.521 260.5,-204.521\"/>\r\n",
       "</g>\r\n",
       "<!-- 6 -->\r\n",
       "<g id=\"node7\" class=\"node\"><title>6</title>\r\n",
       "<polygon fill=\"#e58139\" fill-opacity=\"0.721569\" stroke=\"black\" points=\"562.5,-194.5 423.5,-194.5 423.5,-111.5 562.5,-111.5 562.5,-194.5\"/>\r\n",
       "<text text-anchor=\"middle\" x=\"493\" y=\"-179.3\" font-family=\"Times New Roman,serif\" font-size=\"14.00\">source_Direct &lt;= 0.5</text>\r\n",
       "<text text-anchor=\"middle\" x=\"493\" y=\"-164.3\" font-family=\"Times New Roman,serif\" font-size=\"14.00\">gini = 0.339</text>\r\n",
       "<text text-anchor=\"middle\" x=\"493\" y=\"-149.3\" font-family=\"Times New Roman,serif\" font-size=\"14.00\">samples = 7.8%</text>\r\n",
       "<text text-anchor=\"middle\" x=\"493\" y=\"-134.3\" font-family=\"Times New Roman,serif\" font-size=\"14.00\">value = [0.783, 0.217]</text>\r\n",
       "<text text-anchor=\"middle\" x=\"493\" y=\"-119.3\" font-family=\"Times New Roman,serif\" font-size=\"14.00\">class = not&#45;fraud</text>\r\n",
       "</g>\r\n",
       "<!-- 2&#45;&gt;6 -->\r\n",
       "<g id=\"edge6\" class=\"edge\"><title>2&#45;&gt;6</title>\r\n",
       "<path fill=\"none\" stroke=\"black\" d=\"M326.531,-236.529C354.013,-222.904 385.741,-207.175 414.078,-193.126\"/>\r\n",
       "<polygon fill=\"black\" stroke=\"black\" points=\"415.745,-196.207 423.15,-188.629 412.636,-189.935 415.745,-196.207\"/>\r\n",
       "</g>\r\n",
       "<!-- 4 -->\r\n",
       "<g id=\"node5\" class=\"node\"><title>4</title>\r\n",
       "<polygon fill=\"#e58139\" fill-opacity=\"0.968627\" stroke=\"black\" points=\"255.5,-68 130.5,-68 130.5,-0 255.5,-0 255.5,-68\"/>\r\n",
       "<text text-anchor=\"middle\" x=\"193\" y=\"-52.8\" font-family=\"Times New Roman,serif\" font-size=\"14.00\">gini = 0.058</text>\r\n",
       "<text text-anchor=\"middle\" x=\"193\" y=\"-37.8\" font-family=\"Times New Roman,serif\" font-size=\"14.00\">samples = 73.7%</text>\r\n",
       "<text text-anchor=\"middle\" x=\"193\" y=\"-22.8\" font-family=\"Times New Roman,serif\" font-size=\"14.00\">value = [0.97, 0.03]</text>\r\n",
       "<text text-anchor=\"middle\" x=\"193\" y=\"-7.8\" font-family=\"Times New Roman,serif\" font-size=\"14.00\">class = not&#45;fraud</text>\r\n",
       "</g>\r\n",
       "<!-- 3&#45;&gt;4 -->\r\n",
       "<g id=\"edge4\" class=\"edge\"><title>3&#45;&gt;4</title>\r\n",
       "<path fill=\"none\" stroke=\"black\" d=\"M234.796,-111.407C228.76,-100.373 222.209,-88.3977 216.124,-77.2727\"/>\r\n",
       "<polygon fill=\"black\" stroke=\"black\" points=\"219.012,-75.2605 211.143,-68.1669 212.871,-78.6198 219.012,-75.2605\"/>\r\n",
       "</g>\r\n",
       "<!-- 5 -->\r\n",
       "<g id=\"node6\" class=\"node\"><title>5</title>\r\n",
       "<polygon fill=\"#e58139\" fill-opacity=\"0.964706\" stroke=\"black\" points=\"412.5,-68 273.5,-68 273.5,-0 412.5,-0 412.5,-68\"/>\r\n",
       "<text text-anchor=\"middle\" x=\"343\" y=\"-52.8\" font-family=\"Times New Roman,serif\" font-size=\"14.00\">gini = 0.065</text>\r\n",
       "<text text-anchor=\"middle\" x=\"343\" y=\"-37.8\" font-family=\"Times New Roman,serif\" font-size=\"14.00\">samples = 13.5%</text>\r\n",
       "<text text-anchor=\"middle\" x=\"343\" y=\"-22.8\" font-family=\"Times New Roman,serif\" font-size=\"14.00\">value = [0.966, 0.034]</text>\r\n",
       "<text text-anchor=\"middle\" x=\"343\" y=\"-7.8\" font-family=\"Times New Roman,serif\" font-size=\"14.00\">class = not&#45;fraud</text>\r\n",
       "</g>\r\n",
       "<!-- 3&#45;&gt;5 -->\r\n",
       "<g id=\"edge5\" class=\"edge\"><title>3&#45;&gt;5</title>\r\n",
       "<path fill=\"none\" stroke=\"black\" d=\"M286.837,-111.407C295.191,-100.042 304.279,-87.6783 312.662,-76.2738\"/>\r\n",
       "<polygon fill=\"black\" stroke=\"black\" points=\"315.518,-78.2974 318.621,-68.1669 309.878,-74.1515 315.518,-78.2974\"/>\r\n",
       "</g>\r\n",
       "<!-- 7 -->\r\n",
       "<g id=\"node8\" class=\"node\"><title>7</title>\r\n",
       "<polygon fill=\"#e58139\" fill-opacity=\"0.764706\" stroke=\"black\" points=\"555.5,-68 430.5,-68 430.5,-0 555.5,-0 555.5,-68\"/>\r\n",
       "<text text-anchor=\"middle\" x=\"493\" y=\"-52.8\" font-family=\"Times New Roman,serif\" font-size=\"14.00\">gini = 0.308</text>\r\n",
       "<text text-anchor=\"middle\" x=\"493\" y=\"-37.8\" font-family=\"Times New Roman,serif\" font-size=\"14.00\">samples = 6.2%</text>\r\n",
       "<text text-anchor=\"middle\" x=\"493\" y=\"-22.8\" font-family=\"Times New Roman,serif\" font-size=\"14.00\">value = [0.81, 0.19]</text>\r\n",
       "<text text-anchor=\"middle\" x=\"493\" y=\"-7.8\" font-family=\"Times New Roman,serif\" font-size=\"14.00\">class = not&#45;fraud</text>\r\n",
       "</g>\r\n",
       "<!-- 6&#45;&gt;7 -->\r\n",
       "<g id=\"edge7\" class=\"edge\"><title>6&#45;&gt;7</title>\r\n",
       "<path fill=\"none\" stroke=\"black\" d=\"M493,-111.407C493,-100.704 493,-89.1154 493,-78.2762\"/>\r\n",
       "<polygon fill=\"black\" stroke=\"black\" points=\"496.5,-78.1669 493,-68.1669 489.5,-78.167 496.5,-78.1669\"/>\r\n",
       "</g>\r\n",
       "<!-- 8 -->\r\n",
       "<g id=\"node9\" class=\"node\"><title>8</title>\r\n",
       "<polygon fill=\"#e58139\" fill-opacity=\"0.525490\" stroke=\"black\" points=\"712.5,-68 573.5,-68 573.5,-0 712.5,-0 712.5,-68\"/>\r\n",
       "<text text-anchor=\"middle\" x=\"643\" y=\"-52.8\" font-family=\"Times New Roman,serif\" font-size=\"14.00\">gini = 0.436</text>\r\n",
       "<text text-anchor=\"middle\" x=\"643\" y=\"-37.8\" font-family=\"Times New Roman,serif\" font-size=\"14.00\">samples = 1.5%</text>\r\n",
       "<text text-anchor=\"middle\" x=\"643\" y=\"-22.8\" font-family=\"Times New Roman,serif\" font-size=\"14.00\">value = [0.678, 0.322]</text>\r\n",
       "<text text-anchor=\"middle\" x=\"643\" y=\"-7.8\" font-family=\"Times New Roman,serif\" font-size=\"14.00\">class = not&#45;fraud</text>\r\n",
       "</g>\r\n",
       "<!-- 6&#45;&gt;8 -->\r\n",
       "<g id=\"edge8\" class=\"edge\"><title>6&#45;&gt;8</title>\r\n",
       "<path fill=\"none\" stroke=\"black\" d=\"M545.042,-111.407C560.32,-99.4902 577.006,-86.4756 592.205,-74.6199\"/>\r\n",
       "<polygon fill=\"black\" stroke=\"black\" points=\"594.746,-77.0771 600.478,-68.1669 590.441,-71.5575 594.746,-77.0771\"/>\r\n",
       "</g>\r\n",
       "</g>\r\n",
       "</svg>\r\n"
      ],
      "text/plain": [
       "<graphviz.files.Source at 0x2a0f7cd99b0>"
      ]
     },
     "execution_count": 25,
     "metadata": {},
     "output_type": "execute_result"
    }
   ],
   "source": [
    "dt = tree.DecisionTreeClassifier(max_depth=3)\n",
    "dt.fit(X,y)\n",
    "dot_data = tree.export_graphviz(dt, out_file=None, feature_names=X.columns, class_names=['not-fraud', 'fraud'],\n",
    "                     proportion=True, leaves_parallel=True, filled=True)\n",
    "graphviz.Source(dot_data)"
   ]
  },
  {
   "cell_type": "markdown",
   "metadata": {},
   "source": [
    "The decision tree again shows that \"time delta\" and number of device users are the strong features in our classifier."
   ]
  },
  {
   "cell_type": "markdown",
   "metadata": {},
   "source": [
    "## Building a Product from the ML Model"
   ]
  },
  {
   "cell_type": "markdown",
   "metadata": {},
   "source": [
    "ML models are most useful when they can be integrated into a product to take advantage of the positives of the model while hiding the drawbacks. In this case, if I was to deploy this ML model to predict fraudulent transactions, I could look at the classifier's predicted probabilities -- PR(Y|X) -- to assess the risk of a user. In fact I could choose more than one threshold and route user to a certain experience as follows:\n",
    "* **PR(Y|X) < Theshold1: Low-risk users**, normal experience; no special action needed. This will be the experience for most users\n",
    "* **Threshold1 <= PR(Y|X) <= Threshold2: Medium-risk users**, can prompt them for additional verification step or security question\n",
    "* **PR(Y|X) > Threshold2: High-risk users**, can freeze account until user calls in for verification or have someone manually reviewing cases like this"
   ]
  },
  {
   "cell_type": "code",
   "execution_count": null,
   "metadata": {
    "collapsed": true
   },
   "outputs": [],
   "source": []
  }
 ],
 "metadata": {
  "kernelspec": {
   "display_name": "Python 3",
   "language": "python",
   "name": "python3"
  },
  "language_info": {
   "codemirror_mode": {
    "name": "ipython",
    "version": 3
   },
   "file_extension": ".py",
   "mimetype": "text/x-python",
   "name": "python",
   "nbconvert_exporter": "python",
   "pygments_lexer": "ipython3",
   "version": "3.6.2"
  }
 },
 "nbformat": 4,
 "nbformat_minor": 2
}
